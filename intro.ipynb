{
 "cells": [
  {
   "cell_type": "markdown",
   "metadata": {},
   "source": [
    "# Introduction to the ERA 5 Data\n",
    "\n",
    "The ERA5 dataset is the fifth iteration of the ECMWF ReAnalysis dataset, spanning from 1950 to the present. ECMWF is the \"European Centre for Medium-Range Weather Forecasts\".\n",
    "The dataset provides comprehensive and high-resolution historical weather and climate data. The source data is from the [Copernicus Climate Data Store (CDS)](https://cds.climate.copernicus.eu/#!/home). A comprehensive data documentation guide is available [here](https://confluence.ecmwf.int/display/CKB/ERA5%3A+data+documentation). In total, the entire CDS ERA data is over 10Petabytes.\n",
    "\n",
    "Fortunately for us, there are existing [Python](https://github.com/Climate-CAFE/era5-daily-heat-aggregation-python) and [R](https://github.com/Climate-CAFE/era5-daily-heat-aggregation) packages that have gone ahead and demonstrated extracting the data from the API for us, so we are going to use those to develop our workflow. Specifically, we're trying to understand the\n",
    "following characteristics of the data:\n",
    "\n",
    "* size, \n",
    "* how to download, \n",
    "* what are the key transformations to map things into the health sheds\n",
    "* two important variables: \n",
    "    * 2m air temp, and, \n",
    "    * 2m air dew point\n",
    "\n",
    "Let's get started\n"
   ]
  },
  {
   "cell_type": "markdown",
   "metadata": {},
   "source": [
    "Important: we need to install the CDS API first, so you'll need to grab an API key. First, you must register for an account and accept the T&Cs, afterwhich the page [here](https://ecmwf-projects.github.io/copernicus-training-c3s/cds-tutorial.html#install-the-cds-api-key) will autopopulate an API key for you. The following code shows a test case to make sure your API key works"
   ]
  },
  {
   "cell_type": "code",
   "execution_count": 2,
   "metadata": {},
   "outputs": [
    {
     "name": "stderr",
     "output_type": "stream",
     "text": [
      "2025-03-03 13:31:07,682 INFO [2024-09-26T00:00:00] Watch our [Forum](https://forum.ecmwf.int/) for Announcements, news and other discussed topics.\n",
      "2025-03-03 13:31:07,683 WARNING [2024-06-16T00:00:00] CDS API syntax is changed and some keys or parameter names may have also changed. To avoid requests failing, please use the \"Show API request code\" tool on the dataset Download Form to check you are using the correct syntax for your API request.\n",
      "2025-03-03 13:31:07,959 INFO Request ID is 07de689d-b7df-439b-b303-2214b8f3eec0\n",
      "2025-03-03 13:31:08,091 INFO status has been updated to accepted\n",
      "2025-03-03 13:34:00,781 INFO status has been updated to successful\n"
     ]
    },
    {
     "data": {
      "application/vnd.jupyter.widget-view+json": {
       "model_id": "fb379a3afd064123b72fc016bd7ea267",
       "version_major": 2,
       "version_minor": 0
      },
      "text/plain": [
       "1fd5a2b7ad40b8c614c78061a75d30d0.grib:   0%|          | 0.00/1.98M [00:00<?, ?B/s]"
      ]
     },
     "metadata": {},
     "output_type": "display_data"
    },
    {
     "data": {
      "text/plain": [
       "'download.grib'"
      ]
     },
     "execution_count": 2,
     "metadata": {},
     "output_type": "execute_result"
    }
   ],
   "source": [
    "import cdsapi\n",
    "\n",
    "client = cdsapi.Client()\n",
    "\n",
    "dataset = 'reanalysis-era5-pressure-levels'\n",
    "request = {\n",
    "  'product_type': ['reanalysis'],\n",
    "  'variable': ['geopotential'],\n",
    "  'year': ['2024'],\n",
    "  'month': ['03'],\n",
    "  'day': ['01'],\n",
    "  'time': ['13:00'],\n",
    "  'pressure_level': ['1000'],\n",
    "  'data_format': 'grib',\n",
    "}\n",
    "target = 'download.grib'\n",
    "\n",
    "client.retrieve(dataset, request, target)"
   ]
  },
  {
   "cell_type": "markdown",
   "metadata": {},
   "source": [
    "This demonstration is expected to amass 9GB of data for raw raster files (24 years, 12 files per year). The demonstration generates the 24 years of heat measures across Kenya administrative boundaries, in 1-month periods of ERA5-Land data across Kenya with three variables (2-m temp, dew point temp, skin temp)"
   ]
  },
  {
   "cell_type": "code",
   "execution_count": 3,
   "metadata": {},
   "outputs": [],
   "source": [
    "# imports as recommended by the github repo\n",
    "import cdsapi\n",
    "import geopandas as gpd\n",
    "import os\n"
   ]
  },
  {
   "cell_type": "markdown",
   "metadata": {},
   "source": [
    "I'll use pyprojroot to specify a data path"
   ]
  },
  {
   "cell_type": "code",
   "execution_count": 4,
   "metadata": {},
   "outputs": [],
   "source": [
    "from pyprojroot.here import here\n",
    "\n",
    "ecmw_dir = here(\"data\")"
   ]
  },
  {
   "cell_type": "code",
   "execution_count": 17,
   "metadata": {},
   "outputs": [],
   "source": [
    "def create_dir(path):\n",
    "\n",
    "    if not os.path.exists(path):\n",
    "        os.makedirs(path)\n",
    "\n",
    "    return path"
   ]
  },
  {
   "cell_type": "code",
   "execution_count": 6,
   "metadata": {},
   "outputs": [],
   "source": [
    "create_dir(ecmw_dir)"
   ]
  },
  {
   "cell_type": "code",
   "execution_count": 7,
   "metadata": {},
   "outputs": [],
   "source": [
    "# create a directory for the kenya data\n",
    "create_dir(os.path.join(ecmw_dir, \"Kenya_GADM\"))"
   ]
  },
  {
   "cell_type": "markdown",
   "metadata": {},
   "source": [
    "Next, we need to manually fetch this GADM file for Kenya from here: https://gadm.org/download_country.html\n",
    "\n",
    "This is a boundaries geopackage; GeoBoundaries is a global database of administrative boundaries (e.g., countries, states, provinces, districts). Hence, this file provides the\n",
    "boundaries for Kenyan regions"
   ]
  },
  {
   "cell_type": "code",
   "execution_count": 8,
   "metadata": {},
   "outputs": [],
   "source": [
    "kenya_shape =  gpd.read_file(os.path.join(ecmw_dir, \"Kenya_GADM/gadm41_KEN.gpkg\"), layer = \"ADM_ADM_0\")\n"
   ]
  },
  {
   "cell_type": "code",
   "execution_count": 9,
   "metadata": {},
   "outputs": [
    {
     "data": {
      "text/html": [
       "<div>\n",
       "<style scoped>\n",
       "    .dataframe tbody tr th:only-of-type {\n",
       "        vertical-align: middle;\n",
       "    }\n",
       "\n",
       "    .dataframe tbody tr th {\n",
       "        vertical-align: top;\n",
       "    }\n",
       "\n",
       "    .dataframe thead th {\n",
       "        text-align: right;\n",
       "    }\n",
       "</style>\n",
       "<table border=\"1\" class=\"dataframe\">\n",
       "  <thead>\n",
       "    <tr style=\"text-align: right;\">\n",
       "      <th></th>\n",
       "      <th>GID_0</th>\n",
       "      <th>COUNTRY</th>\n",
       "      <th>geometry</th>\n",
       "    </tr>\n",
       "  </thead>\n",
       "  <tbody>\n",
       "    <tr>\n",
       "      <th>0</th>\n",
       "      <td>KEN</td>\n",
       "      <td>Kenya</td>\n",
       "      <td>MULTIPOLYGON (((39.38014 -4.71792, 39.37986 -4...</td>\n",
       "    </tr>\n",
       "  </tbody>\n",
       "</table>\n",
       "</div>"
      ],
      "text/plain": [
       "  GID_0 COUNTRY                                           geometry\n",
       "0   KEN   Kenya  MULTIPOLYGON (((39.38014 -4.71792, 39.37986 -4..."
      ]
     },
     "execution_count": 9,
     "metadata": {},
     "output_type": "execute_result"
    }
   ],
   "source": [
    "kenya_shape"
   ]
  },
  {
   "cell_type": "markdown",
   "metadata": {},
   "source": [
    "The bounding box represents the coordinates of the shapefile, which is what we'll\n",
    "use to query Copernicus. Think of it like a mask provided in a file"
   ]
  },
  {
   "cell_type": "code",
   "execution_count": 10,
   "metadata": {},
   "outputs": [],
   "source": [
    "kenya_bbox = kenya_shape.total_bounds"
   ]
  },
  {
   "cell_type": "code",
   "execution_count": 11,
   "metadata": {},
   "outputs": [
    {
     "data": {
      "text/plain": [
       "array([33.909588  , -4.720417  , 41.92621613,  5.06116581])"
      ]
     },
     "execution_count": 11,
     "metadata": {},
     "output_type": "execute_result"
    }
   ],
   "source": [
    "kenya_bbox"
   ]
  },
  {
   "cell_type": "markdown",
   "metadata": {},
   "source": [
    "Technical: Add a small buffer around the bounding box to ensure the whole region \n",
    "is queried, and round the parameters to a 0.1 resolution. A 0.1 resolution\n",
    "is applied because the resolution of netCDF ERA5 data is .25x.25\n",
    "https://confluence.ecmwf.int/display/CKB/ERA5%3A+What+is+the+spatial+reference\n"
   ]
  },
  {
   "cell_type": "code",
   "execution_count": 12,
   "metadata": {},
   "outputs": [],
   "source": [
    "kenya_bbox[0] = round(kenya_bbox[0], 1) - 0.1\n",
    "kenya_bbox[1] = round(kenya_bbox[1], 1) - 0.1\n",
    "kenya_bbox[2] = round(kenya_bbox[2], 1) + 0.1\n",
    "kenya_bbox[3] = round(kenya_bbox[3], 1) + 0.1"
   ]
  },
  {
   "cell_type": "code",
   "execution_count": 13,
   "metadata": {},
   "outputs": [],
   "source": [
    "# to build a query, specify [xmin, ymin, xmax, ymax]\n",
    "query_area = [kenya_bbox[0], kenya_bbox[1], kenya_bbox[2], kenya_bbox[3]]"
   ]
  },
  {
   "cell_type": "code",
   "execution_count": 14,
   "metadata": {},
   "outputs": [],
   "source": [
    "query_years = list(range(2000, 2024))\n",
    "query_years_str = [str(x) for x in query_years]\n",
    "\n",
    "query_months = list(range(1, 13))\n",
    "query_months_str = [str(x).zfill(2) for x in query_months]"
   ]
  },
  {
   "cell_type": "code",
   "execution_count": 18,
   "metadata": {},
   "outputs": [],
   "source": [
    "output_dir = create_dir(os.path.join(ecmw_dir, \"ERA5_out\"))"
   ]
  },
  {
   "cell_type": "code",
   "execution_count": null,
   "metadata": {},
   "outputs": [
    {
     "name": "stdout",
     "output_type": "stream",
     "text": [
      "Now processing year  2000 \n",
      "\n",
      "Now processing month  01 \n",
      "\n"
     ]
    },
    {
     "name": "stderr",
     "output_type": "stream",
     "text": [
      "2025-03-03 13:52:06,896 INFO [2024-09-26T00:00:00] Watch our [Forum](https://forum.ecmwf.int/) for Announcements, news and other discussed topics.\n",
      "2025-03-03 13:52:06,897 WARNING [2024-06-16T00:00:00] CDS API syntax is changed and some keys or parameter names may have also changed. To avoid requests failing, please use the \"Show API request code\" tool on the dataset Download Form to check you are using the correct syntax for your API request.\n",
      "2025-03-03 13:52:07,181 INFO Request ID is 56d97887-22e9-441c-b33c-2236e5feaa87\n",
      "2025-03-03 13:52:07,308 INFO status has been updated to accepted\n",
      "2025-03-03 13:52:15,943 INFO status has been updated to successful\n"
     ]
    },
    {
     "data": {
      "application/vnd.jupyter.widget-view+json": {
       "model_id": "5e8426ff1c4d4f7c9c4bf7fe34369109",
       "version_major": 2,
       "version_minor": 0
      },
      "text/plain": [
       "3f0a8829f1720f8fa1289e11eedada58.nc:   0%|          | 0.00/23.4M [00:00<?, ?B/s]"
      ]
     },
     "metadata": {},
     "output_type": "display_data"
    },
    {
     "name": "stdout",
     "output_type": "stream",
     "text": [
      "Now processing month  02 \n",
      "\n"
     ]
    },
    {
     "name": "stderr",
     "output_type": "stream",
     "text": [
      "2025-03-03 13:52:26,335 INFO [2024-09-26T00:00:00] Watch our [Forum](https://forum.ecmwf.int/) for Announcements, news and other discussed topics.\n",
      "2025-03-03 13:52:26,336 WARNING [2024-06-16T00:00:00] CDS API syntax is changed and some keys or parameter names may have also changed. To avoid requests failing, please use the \"Show API request code\" tool on the dataset Download Form to check you are using the correct syntax for your API request.\n",
      "2025-03-03 13:52:26,730 INFO Request ID is 02e31b6b-e047-4f4b-bf56-4eda01d5d08a\n",
      "2025-03-03 13:52:27,070 INFO status has been updated to accepted\n",
      "2025-03-03 13:52:36,181 INFO status has been updated to running\n",
      "2025-03-03 14:02:50,214 INFO status has been updated to successful\n"
     ]
    },
    {
     "data": {
      "application/vnd.jupyter.widget-view+json": {
       "model_id": "3818ec1261d94244826414c00c40038d",
       "version_major": 2,
       "version_minor": 0
      },
      "text/plain": [
       "bdfda68cb5ba4affec5b1f592ec6ed5f.nc:   0%|          | 0.00/20.3M [00:00<?, ?B/s]"
      ]
     },
     "metadata": {},
     "output_type": "display_data"
    },
    {
     "name": "stdout",
     "output_type": "stream",
     "text": [
      "Now processing month  03 \n",
      "\n"
     ]
    },
    {
     "name": "stderr",
     "output_type": "stream",
     "text": [
      "2025-03-03 14:02:56,179 INFO [2024-09-26T00:00:00] Watch our [Forum](https://forum.ecmwf.int/) for Announcements, news and other discussed topics.\n",
      "2025-03-03 14:02:56,180 WARNING [2024-06-16T00:00:00] CDS API syntax is changed and some keys or parameter names may have also changed. To avoid requests failing, please use the \"Show API request code\" tool on the dataset Download Form to check you are using the correct syntax for your API request.\n",
      "2025-03-03 14:02:56,555 INFO Request ID is 3e4ebcbc-7038-43b4-927b-b4ce291fd60f\n",
      "2025-03-03 14:02:56,703 INFO status has been updated to accepted\n",
      "2025-03-03 14:03:18,825 INFO status has been updated to running\n",
      "2025-03-03 14:11:18,070 INFO status has been updated to successful\n"
     ]
    },
    {
     "data": {
      "application/vnd.jupyter.widget-view+json": {
       "model_id": "da26cd78e6ce4e0391eb081bd3d1ed10",
       "version_major": 2,
       "version_minor": 0
      },
      "text/plain": [
       "eadfd863f7f6a6f82d1f077b6f137cdf.nc:   0%|          | 0.00/24.4M [00:00<?, ?B/s]"
      ]
     },
     "metadata": {},
     "output_type": "display_data"
    },
    {
     "name": "stdout",
     "output_type": "stream",
     "text": [
      "Now processing month  04 \n",
      "\n"
     ]
    },
    {
     "name": "stderr",
     "output_type": "stream",
     "text": [
      "2025-03-03 14:11:27,837 INFO [2024-09-26T00:00:00] Watch our [Forum](https://forum.ecmwf.int/) for Announcements, news and other discussed topics.\n",
      "2025-03-03 14:11:27,838 WARNING [2024-06-16T00:00:00] CDS API syntax is changed and some keys or parameter names may have also changed. To avoid requests failing, please use the \"Show API request code\" tool on the dataset Download Form to check you are using the correct syntax for your API request.\n",
      "2025-03-03 14:11:28,199 INFO Request ID is f2a01b32-4853-4d2d-a873-9986d4c668fa\n",
      "2025-03-03 14:11:28,358 INFO status has been updated to accepted\n",
      "2025-03-03 14:11:33,798 INFO status has been updated to running\n",
      "2025-03-03 14:17:48,663 INFO status has been updated to successful\n"
     ]
    },
    {
     "data": {
      "application/vnd.jupyter.widget-view+json": {
       "model_id": "ea59bb3364f648b1a990fa22b58bc379",
       "version_major": 2,
       "version_minor": 0
      },
      "text/plain": [
       "7790b627e1ed17c07398e4943ddc66f8.nc:   0%|          | 0.00/20.2M [00:00<?, ?B/s]"
      ]
     },
     "metadata": {},
     "output_type": "display_data"
    },
    {
     "name": "stdout",
     "output_type": "stream",
     "text": [
      "Now processing month  05 \n",
      "\n"
     ]
    },
    {
     "name": "stderr",
     "output_type": "stream",
     "text": [
      "2025-03-03 14:17:54,131 INFO [2024-09-26T00:00:00] Watch our [Forum](https://forum.ecmwf.int/) for Announcements, news and other discussed topics.\n",
      "2025-03-03 14:17:54,132 WARNING [2024-06-16T00:00:00] CDS API syntax is changed and some keys or parameter names may have also changed. To avoid requests failing, please use the \"Show API request code\" tool on the dataset Download Form to check you are using the correct syntax for your API request.\n",
      "2025-03-03 14:17:54,453 INFO Request ID is 1cf8b1bc-ba8b-4865-a895-1634b22b0cb0\n",
      "2025-03-03 14:17:54,572 INFO status has been updated to accepted\n",
      "2025-03-03 14:18:03,340 INFO status has been updated to running\n",
      "2025-03-03 14:24:14,619 INFO status has been updated to successful\n"
     ]
    },
    {
     "data": {
      "application/vnd.jupyter.widget-view+json": {
       "model_id": "fd851f61eb294e7c94eeecad7903a30e",
       "version_major": 2,
       "version_minor": 0
      },
      "text/plain": [
       "af8da5f83b8f4edfcfdc9e9b01e85167.nc:   0%|          | 0.00/22.7M [00:00<?, ?B/s]"
      ]
     },
     "metadata": {},
     "output_type": "display_data"
    },
    {
     "name": "stdout",
     "output_type": "stream",
     "text": [
      "Now processing month  06 \n",
      "\n"
     ]
    },
    {
     "name": "stderr",
     "output_type": "stream",
     "text": [
      "2025-03-03 14:24:18,644 INFO [2024-09-26T00:00:00] Watch our [Forum](https://forum.ecmwf.int/) for Announcements, news and other discussed topics.\n",
      "2025-03-03 14:24:18,645 WARNING [2024-06-16T00:00:00] CDS API syntax is changed and some keys or parameter names may have also changed. To avoid requests failing, please use the \"Show API request code\" tool on the dataset Download Form to check you are using the correct syntax for your API request.\n",
      "2025-03-03 14:24:18,893 INFO Request ID is 8d9297fa-d2d6-4cf8-8473-669175f205a6\n",
      "2025-03-03 14:24:19,004 INFO status has been updated to accepted\n",
      "2025-03-03 14:24:27,645 INFO status has been updated to running\n",
      "2025-03-03 14:30:40,248 INFO status has been updated to successful\n"
     ]
    },
    {
     "data": {
      "application/vnd.jupyter.widget-view+json": {
       "model_id": "3b2a46c558c242578f2c7e5602495436",
       "version_major": 2,
       "version_minor": 0
      },
      "text/plain": [
       "f222a9f45eec1093306d1f8bbf9bbdd2.nc:   0%|          | 0.00/21.5M [00:00<?, ?B/s]"
      ]
     },
     "metadata": {},
     "output_type": "display_data"
    },
    {
     "name": "stdout",
     "output_type": "stream",
     "text": [
      "Now processing month  07 \n",
      "\n"
     ]
    },
    {
     "name": "stderr",
     "output_type": "stream",
     "text": [
      "2025-03-03 14:30:45,830 INFO [2024-09-26T00:00:00] Watch our [Forum](https://forum.ecmwf.int/) for Announcements, news and other discussed topics.\n",
      "2025-03-03 14:30:45,832 WARNING [2024-06-16T00:00:00] CDS API syntax is changed and some keys or parameter names may have also changed. To avoid requests failing, please use the \"Show API request code\" tool on the dataset Download Form to check you are using the correct syntax for your API request.\n",
      "2025-03-03 14:30:46,161 INFO Request ID is 13f963a5-df07-42b0-9535-40f5dd511890\n",
      "2025-03-03 14:30:46,284 INFO status has been updated to accepted\n",
      "2025-03-03 14:30:54,964 INFO status has been updated to running\n",
      "2025-03-03 14:37:06,377 INFO status has been updated to successful\n"
     ]
    },
    {
     "data": {
      "application/vnd.jupyter.widget-view+json": {
       "model_id": "6a9a32f3b00044ef9dfd2b15db9a892e",
       "version_major": 2,
       "version_minor": 0
      },
      "text/plain": [
       "a56370ec686f31437a5c9328b74e48da.nc:   0%|          | 0.00/22.8M [00:00<?, ?B/s]"
      ]
     },
     "metadata": {},
     "output_type": "display_data"
    },
    {
     "name": "stdout",
     "output_type": "stream",
     "text": [
      "Now processing month  08 \n",
      "\n"
     ]
    },
    {
     "name": "stderr",
     "output_type": "stream",
     "text": [
      "2025-03-03 14:37:13,309 INFO [2024-09-26T00:00:00] Watch our [Forum](https://forum.ecmwf.int/) for Announcements, news and other discussed topics.\n",
      "2025-03-03 14:37:13,310 WARNING [2024-06-16T00:00:00] CDS API syntax is changed and some keys or parameter names may have also changed. To avoid requests failing, please use the \"Show API request code\" tool on the dataset Download Form to check you are using the correct syntax for your API request.\n",
      "2025-03-03 14:37:13,713 INFO Request ID is 33d25bd3-d6a3-4faa-8b21-7e9d93faf9f2\n",
      "2025-03-03 14:37:13,869 INFO status has been updated to accepted\n",
      "2025-03-03 14:37:22,628 INFO status has been updated to running\n",
      "2025-03-03 14:41:33,768 INFO status has been updated to successful\n"
     ]
    },
    {
     "data": {
      "application/vnd.jupyter.widget-view+json": {
       "model_id": "5877f53e1c974f13bda779dd1b2db544",
       "version_major": 2,
       "version_minor": 0
      },
      "text/plain": [
       "a393f6cb418b557a044ef0b4e0fb3b68.nc:   0%|          | 0.00/22.7M [00:00<?, ?B/s]"
      ]
     },
     "metadata": {},
     "output_type": "display_data"
    },
    {
     "name": "stdout",
     "output_type": "stream",
     "text": [
      "Now processing month  09 \n",
      "\n"
     ]
    },
    {
     "name": "stderr",
     "output_type": "stream",
     "text": [
      "2025-03-03 14:41:37,733 INFO [2024-09-26T00:00:00] Watch our [Forum](https://forum.ecmwf.int/) for Announcements, news and other discussed topics.\n",
      "2025-03-03 14:41:37,734 WARNING [2024-06-16T00:00:00] CDS API syntax is changed and some keys or parameter names may have also changed. To avoid requests failing, please use the \"Show API request code\" tool on the dataset Download Form to check you are using the correct syntax for your API request.\n",
      "2025-03-03 14:41:38,015 INFO Request ID is bc09a8e9-669b-4d05-85c4-e4cf6f0cc897\n",
      "2025-03-03 14:41:38,137 INFO status has been updated to accepted\n",
      "2025-03-03 14:41:46,811 INFO status has been updated to running\n"
     ]
    }
   ],
   "source": [
    "for year_str in query_years_str:\n",
    "    # Track progress\n",
    "    print(\"Now processing year \", year_str, \"\\n\")\n",
    "\n",
    "    # For each year, the query is divided into each month sections. \n",
    "    # If a request is too large, it will not be accepted by the CDS servers, \n",
    "    # so this division of requests is required.\n",
    "\n",
    "    for month_str in query_months_str:\n",
    "        # Track progress\n",
    "        print(\"Now processing month \", month_str, \"\\n\")\n",
    "\n",
    "        # The below is the formatted API request language. All of the inputs\n",
    "        # specified below in proper formatting can be identified by forming a \n",
    "        # request using the Copernicus CDS point-and-click interface for data\n",
    "        # requests. https://cds.climate.copernicus.eu/cdsapp#!/dataset/reanalysis-era5-land?tab=form\n",
    "        # Select the variables, timing, and netcdf as the output format, and then \n",
    "        # select \"Show API Request\" at the bottom of the screen. \n",
    "    \n",
    "        # Note that the argument in the download() function is the file path and \n",
    "        # file name that data will be exported to and stored at. If using a loop, \n",
    "        # ensure that the unique features of each request are noted in the output.\n",
    "\n",
    "        # Note: need to create \"ERA5_Out\" subfolder on your path\n",
    " \n",
    "        dataset = \"reanalysis-era5-land\"\n",
    "        request = {\n",
    "                    \"product_type\": \"reanalysis\",\n",
    "                    \"variable\": [\"2m_dewpoint_temperature\",\n",
    "                                 \"2m_temperature\",\n",
    "                                 \"skin_temperature\"], \n",
    "                    \"year\": year_str,\n",
    "                    \"month\": month_str,\n",
    "                    \"day\": [  \n",
    "                            \"01\", \"02\", \"03\",\n",
    "                            \"04\", \"05\", \"06\",\n",
    "                            \"07\", \"08\", \"09\",\n",
    "                            \"10\", \"11\", \"12\",\n",
    "                            \"13\", \"14\", \"15\",\n",
    "                            \"16\", \"17\", \"18\",\n",
    "                            \"19\", \"20\", \"21\",\n",
    "                            \"22\", \"23\", \"24\",\n",
    "                            \"25\", \"26\", \"27\",\n",
    "                            \"28\", \"29\", \"30\",\n",
    "                            \"31\"],\n",
    "                    \"time\": [\n",
    "                             \"00:00\", \"01:00\", \"02:00\",\n",
    "                             \"03:00\", \"04:00\", \"05:00\",\n",
    "                             \"06:00\", \"07:00\", \"08:00\",\n",
    "                             \"09:00\", \"10:00\", \"11:00\",\n",
    "                             \"12:00\", \"13:00\", \"14:00\",\n",
    "                             \"15:00\", \"16:00\", \"17:00\",\n",
    "                             \"18:00\", \"19:00\", \"20:00\",\n",
    "                             \"21:00\", \"22:00\", \"23:00\"],\n",
    "                    \"data_format\": \"netcdf\",\n",
    "                    \"download_format\": \"unarchived\",\n",
    "                    \"area\": query_area\n",
    "        }\n",
    "\n",
    "        client = cdsapi.Client()\n",
    "        client.retrieve(dataset, request).download(os.path.join(output_dir, \n",
    "                                                                \"{}_{}.nc\".format(year_str, month_str)))\n"
   ]
  },
  {
   "cell_type": "markdown",
   "metadata": {},
   "source": [
    "From the logs, it looks like one month of data takes approximately 10 minutes. In this query, we might end up with 48 hours of downloading for the full 24 years. Clearly this will need to be multithreaded/paralleled to be efficient."
   ]
  },
  {
   "cell_type": "markdown",
   "metadata": {},
   "source": []
  }
 ],
 "metadata": {
  "kernelspec": {
   "display_name": "Python 3",
   "language": "python",
   "name": "python3"
  },
  "language_info": {
   "codemirror_mode": {
    "name": "ipython",
    "version": 3
   },
   "file_extension": ".py",
   "mimetype": "text/x-python",
   "name": "python",
   "nbconvert_exporter": "python",
   "pygments_lexer": "ipython3",
   "version": "3.13.2"
  }
 },
 "nbformat": 4,
 "nbformat_minor": 2
}
