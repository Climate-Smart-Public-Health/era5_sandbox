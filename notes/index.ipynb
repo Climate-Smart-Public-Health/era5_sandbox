{
 "cells": [
  {
   "cell_type": "code",
   "execution_count": null,
   "metadata": {},
   "outputs": [],
   "source": [
    "#| hide\n",
    "from era5_sandbox.core import *"
   ]
  },
  {
   "cell_type": "markdown",
   "metadata": {},
   "source": [
    "# era5_sandbox\n",
    "\n",
    "> Sandbox environment for era5 development"
   ]
  },
  {
   "cell_type": "markdown",
   "metadata": {},
   "source": [
    "Here we are developing functions and code for the ERA5 dataset project. The goal is for most exposure data to be made available at the daily resolution when possible. Finer resolutions shouldn’t ever be needed for our purposes, and it should then be relatively easy to aggregate at coarser resolutions, such as weekly or monthly.\n",
    "\n",
    "Variables should generally be made available from 2010 onward, as that’s where our clinic data starts.\n",
    "\n",
    "All data are ideally made available at the “healthshed” geographical level. Healthsheds are defined as geographical areas where people who live all go to the same clinic. There are a total of ~2700 public clinics in Madagascar, hence ~2700 healthsheds, with each healthshed containing ~10000 people on average.\n",
    "\n",
    "Preliminary list of environmental variables\n",
    "\n",
    "- [ ] 2-m air temperature from ERA5: daily min, max, mean\n",
    " \n",
    "- [ ] 2-m air dew point temperature from ERA5: daily min, max, mean\n",
    "\n",
    "- [ ] Precipitation: daily total (ERA5)\n",
    "\n",
    "- [ ] Sea surface temperature: daily average and maximum in the nearest neighbor for each healthshed.\n",
    "\n",
    "- [ ] Precipitation: daily total (CHIRPS)\n",
    "\n",
    "- [ ] Chlorophyll-A (Giacomo)\n",
    "\n",
    "- [ ] Wealth index: Available from Giacomo \n",
    "\n",
    "- [ ] NDVI\n",
    "\n",
    "- [ ] Tropical storm\n",
    "\n",
    "- [ ] Flooding\n",
    "\n",
    "- [ ] Deforestation\n",
    "\n",
    "- [ ] Linking/segmenting healthsheds into climate zones and other \n",
    "\n",
    "- [ ] Relative humidity: daily average (lower priority)\n"
   ]
  },
  {
   "cell_type": "markdown",
   "metadata": {},
   "source": [
    "## Developer Guide"
   ]
  },
  {
   "cell_type": "markdown",
   "metadata": {},
   "source": [
    "If you are new to using `nbdev` here are some useful pointers to get you started."
   ]
  },
  {
   "cell_type": "markdown",
   "metadata": {},
   "source": [
    "### Install era5_sandbox in Development mode"
   ]
  },
  {
   "cell_type": "markdown",
   "metadata": {},
   "source": [
    "```sh\n",
    "# make sure era5_sandbox package is installed in development mode\n",
    "$ pip install -e .\n",
    "\n",
    "# make changes under nbs/ directory\n",
    "# ...\n",
    "\n",
    "# compile to have changes apply to era5_sandbox\n",
    "$ nbdev_prepare\n",
    "```"
   ]
  },
  {
   "cell_type": "markdown",
   "metadata": {},
   "source": [
    "## Usage"
   ]
  },
  {
   "cell_type": "markdown",
   "metadata": {},
   "source": [
    "### Installation"
   ]
  },
  {
   "cell_type": "markdown",
   "metadata": {},
   "source": [
    "Install latest from the GitHub [repository][repo]:\n",
    "\n",
    "```sh\n",
    "$ pip install git+https://github.com/TinasheMTapera/era5_sandbox.git\n",
    "```\n",
    "\n",
    "or from [conda][conda]\n",
    "\n",
    "```sh\n",
    "$ conda install -c TinasheMTapera era5_sandbox\n",
    "```\n",
    "\n",
    "or from [pypi][pypi]\n",
    "\n",
    "\n",
    "```sh\n",
    "$ pip install era5_sandbox\n",
    "```\n",
    "\n",
    "\n",
    "[repo]: https://github.com/TinasheMTapera/era5_sandbox\n",
    "[docs]: https://TinasheMTapera.github.io/era5_sandbox/\n",
    "[pypi]: https://pypi.org/project/era5_sandbox/\n",
    "[conda]: https://anaconda.org/TinasheMTapera/era5_sandbox"
   ]
  },
  {
   "cell_type": "markdown",
   "metadata": {},
   "source": [
    "### Documentation"
   ]
  },
  {
   "cell_type": "markdown",
   "metadata": {},
   "source": [
    "Documentation can be found hosted on this GitHub [repository][repo]'s [pages][docs]. Additionally you can find package manager specific guidelines on [conda][conda] and [pypi][pypi] respectively.\n",
    "\n",
    "[repo]: https://github.com/TinasheMTapera/era5_sandbox\n",
    "[docs]: https://TinasheMTapera.github.io/era5_sandbox/\n",
    "[pypi]: https://pypi.org/project/era5_sandbox/\n",
    "[conda]: https://anaconda.org/TinasheMTapera/era5_sandbox"
   ]
  },
  {
   "cell_type": "markdown",
   "metadata": {},
   "source": [
    "## How to use"
   ]
  },
  {
   "cell_type": "markdown",
   "metadata": {},
   "source": [
    "Fill me in please! Don't forget code examples:"
   ]
  },
  {
   "cell_type": "code",
   "execution_count": null,
   "metadata": {},
   "outputs": [
    {
     "data": {
      "text/plain": [
       "2"
      ]
     },
     "execution_count": null,
     "metadata": {},
     "output_type": "execute_result"
    }
   ],
   "source": [
    "1+1"
   ]
  },
  {
   "cell_type": "code",
   "execution_count": null,
   "metadata": {},
   "outputs": [],
   "source": []
  }
 ],
 "metadata": {
  "kernelspec": {
   "display_name": "python3",
   "language": "python",
   "name": "python3"
  }
 },
 "nbformat": 4,
 "nbformat_minor": 4
}
