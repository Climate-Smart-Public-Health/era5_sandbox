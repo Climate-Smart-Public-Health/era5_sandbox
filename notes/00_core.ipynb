{
 "cells": [
  {
   "cell_type": "markdown",
   "metadata": {},
   "source": [
    "# core\n",
    "\n",
    "> This is a core library for the ERA5 dataset pipeline. It defines\n",
    "a few helpful functions such as an API tester to test your API key and connection."
   ]
  },
  {
   "cell_type": "code",
   "execution_count": 2,
   "metadata": {},
   "outputs": [],
   "source": [
    "#| default_exp core"
   ]
  },
  {
   "cell_type": "code",
   "execution_count": 4,
   "metadata": {},
   "outputs": [],
   "source": [
    "#| hide\n",
    "from nbdev.showdoc import *"
   ]
  },
  {
   "cell_type": "code",
   "execution_count": 6,
   "metadata": {},
   "outputs": [],
   "source": [
    "#| export\n",
    "import os\n",
    "import cdsapi\n",
    "import hydra\n",
    "\n",
    "from omegaconf import DictConfig, OmegaConf\n",
    "from pyprojroot import here"
   ]
  },
  {
   "cell_type": "markdown",
   "metadata": {},
   "source": [
    "## Utilities\n",
    "\n",
    "Some utilities are provided to help you with the ERA5 dataset."
   ]
  },
  {
   "cell_type": "code",
   "execution_count": 7,
   "metadata": {},
   "outputs": [],
   "source": [
    "#| exporti\n",
    "def _expand_path(\n",
    "        path: str   # Path on user's machine\n",
    "        )->   str:  # Expanded path\n",
    "    \"Expand the path on the user's machine for cross compatibility\"\n",
    "\n",
    "    # Expand ~ to the user's home directory\n",
    "    path = os.path.expanduser(path)\n",
    "    # Expand environment variables\n",
    "    path = os.path.expandvars(path)\n",
    "    # Convert to absolute path\n",
    "    path = os.path.abspath(path)\n",
    "    return path"
   ]
  },
  {
   "cell_type": "code",
   "execution_count": 8,
   "metadata": {},
   "outputs": [],
   "source": [
    "#| export\n",
    "def describe(\n",
    "    cfg: DictConfig=None,  # Configuration file\n",
    "    )-> None:\n",
    "    \"Describe the configuration file used by Hydra for the pipeline\"\n",
    "    \n",
    "    if cfg is None:\n",
    "        cfg = OmegaConf.create()\n",
    "        \n",
    "    print(\"This package fetches ERA5 data. The following is the config file used by Hydra for the pipeline:\\n\")\n",
    "    print(OmegaConf.to_yaml(cfg))"
   ]
  },
  {
   "cell_type": "markdown",
   "metadata": {},
   "source": [
    "## Tests and Main\n",
    "\n",
    "In `nbdev`, our tests are embedded in the notebook. Whenever you export the notebook, all the cells that are specified to run are run, and hence, the tests are executed. The tests are also exported. This is a great way to ensure that your documentation is always up-to-date. For this module, we're using the `testAPI()` function as our main test."
   ]
  },
  {
   "cell_type": "code",
   "execution_count": 9,
   "metadata": {},
   "outputs": [],
   "source": [
    "#| export\n",
    "def testAPI(\n",
    "    cfg: DictConfig=None,\n",
    "    output_path:str=None,\n",
    "    dataset:str=\"reanalysis-era5-pressure-levels\",\n",
    "    remove:bool=True\n",
    "    )-> bool:    \n",
    "    \n",
    "    print(OmegaConf.to_yaml(cfg))\n",
    "\n",
    "    try:\n",
    "        client = cdsapi.Client()\n",
    "\n",
    "        # check the path\n",
    "        if output_path is None:\n",
    "            output_path = here() / \"data\"\n",
    "        else:\n",
    "            output_path = _expand_path(output_path)\n",
    "\n",
    "        if not os.path.exists(output_path):\n",
    "            os.makedirs(output_path)\n",
    "\n",
    "        # build request\n",
    "        request = {\n",
    "            'product_type': ['reanalysis'],\n",
    "            'variable': ['geopotential'],\n",
    "            'year': ['2024'],\n",
    "            'month': ['03'],\n",
    "            'day': ['01'],\n",
    "            'time': ['13:00'],\n",
    "            'pressure_level': ['1000'],\n",
    "            'data_format': 'grib',\n",
    "        }\n",
    "\n",
    "        target = output_path / 'download.grib'\n",
    "        \n",
    "        print(\"Testing API connection by downloading a dummy dataset to {}...\".format(output_path))\n",
    "\n",
    "        client.retrieve(dataset, request, target)\n",
    "\n",
    "        if remove:\n",
    "            os.remove(target)\n",
    "        \n",
    "        print(\"API connection test successful.\")\n",
    "        return True\n",
    "\n",
    "    except Exception as e:\n",
    "        print(\"API connection test failed.\")\n",
    "        print(\"Did you set up your API key with CDS? If not, please visit https://cds.climate.copernicus.eu/how-to-api#install-the-cds-api-client\")\n",
    "        print(\"Error: {}\".format(e))\n",
    "        return False"
   ]
  },
  {
   "cell_type": "markdown",
   "metadata": {},
   "source": [
    "We can see that this API tester tool works with Hydra configuration:"
   ]
  },
  {
   "cell_type": "code",
   "execution_count": 10,
   "metadata": {},
   "outputs": [
    {
     "name": "stdout",
     "output_type": "stream",
     "text": [
      "This package fetches ERA5 data. The following is the config file used by Hydra for the pipeline:\n",
      "\n",
      "query:\n",
      "  product_type: reanalysis\n",
      "  variable:\n",
      "  - 2m_dewpoint_temperature\n",
      "  - 2m_temperature\n",
      "  - skin_temperature\n",
      "  - total_precipitation\n",
      "  year:\n",
      "  - 2010\n",
      "  - 2011\n",
      "  month:\n",
      "  - 1\n",
      "  - 2\n",
      "  - 3\n",
      "  - 4\n",
      "  - 5\n",
      "  - 6\n",
      "  - 7\n",
      "  - 8\n",
      "  - 9\n",
      "  - 10\n",
      "  - 11\n",
      "  - 12\n",
      "  day:\n",
      "  - 1\n",
      "  - 2\n",
      "  - 3\n",
      "  - 4\n",
      "  - 5\n",
      "  - 6\n",
      "  - 7\n",
      "  - 8\n",
      "  - 9\n",
      "  - 10\n",
      "  - 11\n",
      "  - 12\n",
      "  - 13\n",
      "  - 14\n",
      "  - 15\n",
      "  - 16\n",
      "  - 17\n",
      "  - 18\n",
      "  - 19\n",
      "  - 20\n",
      "  - 21\n",
      "  - 22\n",
      "  - 23\n",
      "  - 24\n",
      "  - 25\n",
      "  - 26\n",
      "  - 27\n",
      "  - 28\n",
      "  - 29\n",
      "  - 30\n",
      "  - 31\n",
      "  time:\n",
      "  - 0\n",
      "  - 1\n",
      "  - 2\n",
      "  - 3\n",
      "  - 4\n",
      "  - 5\n",
      "  - 6\n",
      "  - 7\n",
      "  - 8\n",
      "  - 9\n",
      "  - 10\n",
      "  - 11\n",
      "  - 12\n",
      "  - 13\n",
      "  - 14\n",
      "  - 15\n",
      "  - 16\n",
      "  - 17\n",
      "  - 18\n",
      "  - 19\n",
      "  - 20\n",
      "  - 21\n",
      "  - 22\n",
      "  - 23\n",
      "  area:\n",
      "  - 0\n",
      "  - 360\n",
      "  - -90\n",
      "  - 90\n",
      "  data_format: netcdf\n",
      "  download_format: unarchived\n",
      "datapaths:\n",
      "  input: null\n",
      "  output: null\n",
      "\n"
     ]
    }
   ],
   "source": [
    "from hydra import initialize, compose\n",
    "from omegaconf import OmegaConf\n",
    "\n",
    "# unfortunately, we have to use the initialize function to load the config file\n",
    "# this is because the @hydra decorator does not work with Notebooks very well\n",
    "# this is a known issue with Hydra: https://gist.github.com/bdsaglam/586704a98336a0cf0a65a6e7c247d248\n",
    "# \n",
    "# just use the relative path from the notebook to the config dir\n",
    "with initialize(version_base=None, config_path=\"../conf\"):\n",
    "    cfg = compose(config_name='config.yaml')\n",
    "\n",
    "describe(cfg)"
   ]
  },
  {
   "cell_type": "markdown",
   "metadata": {},
   "source": [
    "### Importing the Main Function\n",
    "\n",
    "Important: using `__main__` in nbdev and Hydra is a little bit tricky. We need to define the main function in the module ONLY ONCE and then when we export the notebook to script, we need to add the `nbdev.imports.IN_NOTEBOOK` variable. This way, the main function will only be executed when we run the notebook and not when we import the module.\n",
    "\n",
    "```python\n",
    "from nbdev.imports import IN_NOTEBOOK\n",
    "```\n",
    "\n",
    "You'll see this listed throughout the notebooks."
   ]
  },
  {
   "cell_type": "code",
   "execution_count": null,
   "metadata": {},
   "outputs": [],
   "source": [
    "#| export\n",
    "@hydra.main(version_base=None, config_path=\"../conf\", config_name=\"config\")\n",
    "def main(cfg: DictConfig) -> None:\n",
    "    describe(cfg=cfg)\n",
    "    testAPI(cfg=cfg)"
   ]
  },
  {
   "cell_type": "code",
   "execution_count": null,
   "metadata": {},
   "outputs": [],
   "source": [
    "#| export\n",
    "try: from nbdev.imports import IN_NOTEBOOK\n",
    "except: IN_NOTEBOOK=False\n",
    "\n",
    "if __name__ == \"__main__\" and not IN_NOTEBOOK:\n",
    "    main()"
   ]
  },
  {
   "cell_type": "code",
   "execution_count": null,
   "metadata": {},
   "outputs": [],
   "source": [
    "#| hide\n",
    "import nbdev; nbdev.nbdev_export()"
   ]
  }
 ],
 "metadata": {
  "kernelspec": {
   "display_name": "era5_sandbox",
   "language": "python",
   "name": "python3"
  },
  "language_info": {
   "codemirror_mode": {
    "name": "ipython",
    "version": 3
   },
   "file_extension": ".py",
   "mimetype": "text/x-python",
   "name": "python",
   "nbconvert_exporter": "python",
   "pygments_lexer": "ipython3",
   "version": "3.11.11"
  }
 },
 "nbformat": 4,
 "nbformat_minor": 4
}
