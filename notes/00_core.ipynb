{
 "cells": [
  {
   "cell_type": "markdown",
   "metadata": {},
   "source": [
    "# core\n",
    "\n",
    "> This is a core library for the ERA5 dataset pipeline. It defines\n",
    "a few helpful functions such as an API tester to test your API key and connection."
   ]
  },
  {
   "cell_type": "code",
   "execution_count": null,
   "metadata": {},
   "outputs": [],
   "source": [
    "#| default_exp core"
   ]
  },
  {
   "cell_type": "code",
   "execution_count": null,
   "metadata": {},
   "outputs": [],
   "source": [
    "#| hide\n",
    "from nbdev.showdoc import *"
   ]
  },
  {
   "cell_type": "code",
   "execution_count": null,
   "metadata": {},
   "outputs": [],
   "source": [
    "#| export\n",
    "import os\n",
    "import cdsapi\n",
    "import hydra\n",
    "\n",
    "from omegaconf import DictConfig, OmegaConf\n",
    "from pyprojroot import here"
   ]
  },
  {
   "cell_type": "code",
   "execution_count": null,
   "metadata": {},
   "outputs": [],
   "source": [
    "#| exporti\n",
    "def _expand_path(\n",
    "        path: str   # Path on user's machine\n",
    "        )->   str:  # Expanded path\n",
    "    \"Expand the path on the user's machine for cross compatibility\"\n",
    "\n",
    "    # Expand ~ to the user's home directory\n",
    "    path = os.path.expanduser(path)\n",
    "    # Expand environment variables\n",
    "    path = os.path.expandvars(path)\n",
    "    # Convert to absolute path\n",
    "    path = os.path.abspath(path)\n",
    "    return path"
   ]
  },
  {
   "cell_type": "code",
   "execution_count": null,
   "metadata": {},
   "outputs": [],
   "source": [
    "#| export\n",
    "def describe():\n",
    "    print(\"This package fetches ERA5 data.\")"
   ]
  },
  {
   "cell_type": "code",
   "execution_count": null,
   "metadata": {},
   "outputs": [],
   "source": [
    "#| export\n",
    "#@hydra.main(version_base=None, config_path=here() / \"conf\", config_name=\"config\")\n",
    "def testAPI(\n",
    "    output_path:str=None,\n",
    "    dataset:str=\"reanalysis-era5-pressure-levels\",\n",
    "    remove:bool=False,\n",
    "    cfg: DictConfig = None\n",
    "    )-> bool:    \n",
    "    \n",
    "    #print(OmegaConf.to_yaml(cfg))\n",
    "\n",
    "    try:\n",
    "        client = cdsapi.Client()\n",
    "\n",
    "        # check the path\n",
    "        if output_path is None:\n",
    "            output_path = here() / \"data\"\n",
    "        else:\n",
    "            output_path = _expand_path(output_path)\n",
    "\n",
    "        if not os.path.exists(output_path):\n",
    "            os.makedirs(output_path)\n",
    "\n",
    "        # build request\n",
    "        request = {\n",
    "            'product_type': ['reanalysis'],\n",
    "            'variable': ['geopotential'],\n",
    "            'year': ['2024'],\n",
    "            'month': ['03'],\n",
    "            'day': ['01'],\n",
    "            'time': ['13:00'],\n",
    "            'pressure_level': ['1000'],\n",
    "            'data_format': 'grib',\n",
    "        }\n",
    "\n",
    "        target = output_path / 'download.grib'\n",
    "        \n",
    "        print(\"Testing API connection by downloading a dummy dataset to {}...\".format(output_path))\n",
    "\n",
    "        client.retrieve(dataset, request, target)\n",
    "\n",
    "        if remove:\n",
    "            os.remove(target)\n",
    "        \n",
    "        print(\"API connection test successful.\")\n",
    "        return True\n",
    "\n",
    "    except Exception as e:\n",
    "        print(\"API connection test failed.\")\n",
    "        print(\"Did you set up your API key with CDS? If not, please visit https://cds.climate.copernicus.eu/api-how-to\")\n",
    "        print(\"Error: {}\".format(e))\n",
    "        return False"
   ]
  },
  {
   "cell_type": "code",
   "execution_count": null,
   "metadata": {},
   "outputs": [],
   "source": [
    "#export\n",
    "if __name__ == \"__main__\":\n",
    "    describe()\n",
    "    testAPI()\n",
    "else:\n",
    "    pass"
   ]
  },
  {
   "cell_type": "code",
   "execution_count": null,
   "metadata": {},
   "outputs": [],
   "source": [
    "#| hide\n",
    "import nbdev; nbdev.nbdev_export()"
   ]
  }
 ],
 "metadata": {
  "kernelspec": {
   "display_name": "era5_sandbox",
   "language": "python",
   "name": "python3"
  },
  "language_info": {
   "name": "python",
   "version": "3.13.2"
  }
 },
 "nbformat": 4,
 "nbformat_minor": 4
}
