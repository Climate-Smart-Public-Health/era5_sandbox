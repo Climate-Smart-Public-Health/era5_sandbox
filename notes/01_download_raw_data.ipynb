{
 "cells": [
  {
   "cell_type": "markdown",
   "metadata": {},
   "source": [
    "# download\n",
    "\n",
    "> This module downloads the raw data from CDS and saves it in the local directory\n"
   ]
  },
  {
   "cell_type": "code",
   "execution_count": null,
   "metadata": {},
   "outputs": [],
   "source": [
    "#| default_exp download\n"
   ]
  },
  {
   "cell_type": "code",
   "execution_count": null,
   "metadata": {},
   "outputs": [],
   "source": [
    "#| hide\n",
    "from nbdev.showdoc import *"
   ]
  },
  {
   "cell_type": "markdown",
   "metadata": {},
   "source": [
    "We use a similar approach to the one in the tutorial to download the data\n",
    "to local storage."
   ]
  },
  {
   "cell_type": "code",
   "execution_count": null,
   "metadata": {},
   "outputs": [],
   "source": [
    "#| export\n",
    "import os\n",
    "import hydra\n",
    "import cdsapi\n",
    "import geopandas as gpd\n",
    "from core import _expand_path\n",
    "from pyprojroot import here\n",
    "from omegaconf import DictConfig, ListConfig, OmegaConf"
   ]
  },
  {
   "cell_type": "code",
   "execution_count": null,
   "metadata": {},
   "outputs": [],
   "source": [
    "#| exporti\n",
    "def _validate_query(\n",
    "        query_body: DictConfig\n",
    "    )->bool:\n",
    "    '''\n",
    "    Check that the query is valid\n",
    "    '''\n",
    "\n",
    "    required_keys = ['product_type', 'variable', 'year', 'month', 'day', 'time', 'area', 'data_format', 'download_format']\n",
    "    if not all([key in query_body.keys() for key in required_keys]):\n",
    "        print(f\"Missing required key in query. Required keys are {required_keys}\")\n",
    "        print(\"Query validation failed\")\n",
    "        raise ValueError(\"Invalid query\")\n",
    "    \n",
    "    if isinstance(query_body['year'], ListConfig):\n",
    "        query_body['year'] = [str(x).zfill(2) for x in query_body['year']]\n",
    "    else:\n",
    "        query_body['year'] = str(query_body['year'])\n",
    "    if isinstance(query_body['month'], ListConfig):\n",
    "        query_body['month'] = [str(x).zfill(2) for x in query_body['month']]\n",
    "    else:\n",
    "        query_body['month'] = str(query_body['month']).zfill(2)\n",
    "    \n",
    "    if isinstance(query_body['day'], ListConfig):\n",
    "        query_body['day'] = [str(x).zfill(2) for x in query_body['day']]\n",
    "    else:\n",
    "        query_body['day'] = str(query_body['day']).zfill(2)\n",
    "\n",
    "    return OmegaConf.to_container(query_body, resolve=True)"
   ]
  },
  {
   "cell_type": "code",
   "execution_count": null,
   "metadata": {},
   "outputs": [],
   "source": [
    "#| export\n",
    "def fetch_GADM(\n",
    "        url: str=\"https://geodata.ucdavis.edu/gadm/gadm4.1/gpkg/gadm41_MDG.gpkg\",\n",
    "        output_file: str=\"gadm41_MDG.gpkg\" # file path to save the GADM data\n",
    "    )-> str:\n",
    "    '''\n",
    "    Fetch the GADM data for Madagascar\n",
    "    https://geodata.ucdavis.edu/gadm/gadm4.1/gpkg/gadm41_MDG.gpkg\n",
    "    '''\n",
    "\n",
    "    output_file_path = _expand_path(output_file)\n",
    "    if os.path.exists(output_file_path):\n",
    "        print(\"GADM data already exists\")\n",
    "        return output_file_path\n",
    "    \n",
    "    print(\"Fetching GADM bounding box data for region\")\n",
    "    os.system(\"curl --output {} {}\".format(output_file, url))\n",
    "    print(\"GADM data fetched\")\n",
    "    \n",
    "    return output_file_path"
   ]
  },
  {
   "cell_type": "code",
   "execution_count": null,
   "metadata": {},
   "outputs": [],
   "source": [
    "#| export\n",
    "\n",
    "def create_bounding_box(\n",
    "        gadm_file: str, \n",
    "        round_to: int = 1, \n",
    "        buffer: float = 0.1)->list:\n",
    "    '''\n",
    "    Create a bounding box from the GADM data.\n",
    "\n",
    "    This function reads the GADM data from URL and extracts the bounding box of the region.\n",
    "    '''\n",
    "\n",
    "    ground_shape = gpd.read_file(gadm_file, layer = \"ADM_ADM_0\")\n",
    "\n",
    "    bbox = ground_shape.total_bounds\n",
    "\n",
    "    bbox[0] = round(bbox[0], round_to) - buffer\n",
    "    bbox[1] = round(bbox[1], round_to) - buffer\n",
    "    bbox[2] = round(bbox[2], round_to) + buffer\n",
    "    bbox[3] = round(bbox[3], round_to) + buffer\n",
    "    \n",
    "    bbox = [bbox[0], bbox[2], bbox[1], bbox[3]]\n",
    "\n",
    "    return bbox\n"
   ]
  },
  {
   "cell_type": "code",
   "execution_count": null,
   "metadata": {},
   "outputs": [],
   "source": [
    "#| export\n",
    "def download_raw_era5(\n",
    "        cfg: DictConfig,  # hydra configuration file\n",
    "        dataset: str = \"reanalysis-era5-land\", # dataset to download\n",
    "    )->None:\n",
    "    '''\n",
    "    Send the query to the API and download the data\n",
    "    '''\n",
    "\n",
    "    # parse the cfg\n",
    "    testing = cfg.development_mode  # for testing\n",
    "    output_dir = here(\"data/input\") # output directory\n",
    "    \n",
    "    client = cdsapi.Client()\n",
    "    \n",
    "    query = _validate_query(cfg.query)\n",
    "    \n",
    "    # Send the query to the client\n",
    "    if not testing:\n",
    "        bounds = create_bounding_box(cfg.query['gadm_file'])\n",
    "        query['area'] = bounds\n",
    "        del query['gadm_file']\n",
    "        client.retrieve(dataset, query).download(os.path.join(_expand_path(output_dir), \"{}_{}.nc\".format(query['year'], query['month'])))\n",
    "    else:\n",
    "        print(f\"Testing mode. Not downloading data. Query is {query}\")\n",
    "\n",
    "    print(\"Done\")"
   ]
  },
  {
   "cell_type": "markdown",
   "metadata": {},
   "source": [
    "## Tests and Main\n",
    "\n",
    "Here we define some tests and the main function that will be used to download the data."
   ]
  },
  {
   "cell_type": "code",
   "execution_count": null,
   "metadata": {},
   "outputs": [],
   "source": [
    "from hydra import initialize, compose\n",
    "from omegaconf import OmegaConf\n",
    "\n",
    "# unfortunately, we have to use the initialize function to load the config file\n",
    "# this is because the @hydra decorator does not work with Notebooks very well\n",
    "# this is a known issue with Hydra: https://gist.github.com/bdsaglam/586704a98336a0cf0a65a6e7c247d248\n",
    "# \n",
    "# just use the relative path from the notebook to the config dir\n",
    "with initialize(version_base=None, config_path=\"../conf\"):\n",
    "    cfg = compose(config_name='config.yaml')\n",
    "\n",
    "download_raw_era5(cfg, testing=True)"
   ]
  },
  {
   "cell_type": "code",
   "execution_count": null,
   "metadata": {},
   "outputs": [],
   "source": [
    "#| export\n",
    "@hydra.main(config_path=\"../../conf\", config_name=\"config\", version_base=None)\n",
    "def main(cfg: DictConfig) -> None:\n",
    "    download_raw_era5(cfg=cfg)"
   ]
  },
  {
   "cell_type": "code",
   "execution_count": null,
   "metadata": {},
   "outputs": [],
   "source": [
    "#| export\n",
    "try: from nbdev.imports import IN_NOTEBOOK\n",
    "except: IN_NOTEBOOK=False\n",
    "\n",
    "if __name__ == \"__main__\" and not IN_NOTEBOOK:\n",
    "    print('Running from __main__ ...')\n",
    "\n",
    "    main()"
   ]
  },
  {
   "cell_type": "code",
   "execution_count": null,
   "metadata": {},
   "outputs": [],
   "source": [
    "#| hide\n",
    "import nbdev; nbdev.nbdev_export()"
   ]
  }
 ],
 "metadata": {
  "kernelspec": {
   "display_name": "era5_sandbox",
   "language": "python",
   "name": "python3"
  },
  "language_info": {
   "codemirror_mode": {
    "name": "ipython",
    "version": 3
   },
   "file_extension": ".py",
   "mimetype": "text/x-python",
   "name": "python",
   "nbconvert_exporter": "python",
   "pygments_lexer": "ipython3",
   "version": "3.11.11"
  }
 },
 "nbformat": 4,
 "nbformat_minor": 2
}
