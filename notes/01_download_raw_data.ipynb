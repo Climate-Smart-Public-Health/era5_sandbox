{
 "cells": [
  {
   "cell_type": "markdown",
   "metadata": {},
   "source": [
    "# download\n",
    "\n",
    "> This module downloads the raw data from CDS and saves it in the local directory\n"
   ]
  },
  {
   "cell_type": "code",
   "execution_count": null,
   "metadata": {},
   "outputs": [],
   "source": [
    "#| default_exp download\n"
   ]
  },
  {
   "cell_type": "code",
   "execution_count": null,
   "metadata": {},
   "outputs": [],
   "source": [
    "#| hide\n",
    "from nbdev.showdoc import *"
   ]
  },
  {
   "cell_type": "markdown",
   "metadata": {},
   "source": [
    "We use a similar approach to the one in the tutorial to download the data\n",
    "to local storage."
   ]
  },
  {
   "cell_type": "code",
   "execution_count": null,
   "metadata": {},
   "outputs": [],
   "source": [
    "#| export\n",
    "import os\n",
    "import hydra\n",
    "import cdsapi\n",
    "from core import _expand_path\n",
    "from omegaconf import DictConfig, OmegaConf"
   ]
  },
  {
   "cell_type": "code",
   "execution_count": null,
   "metadata": {},
   "outputs": [],
   "source": [
    "#| exporti\n",
    "def _validate_query(\n",
    "        query_body: DictConfig\n",
    "    )->bool:\n",
    "    '''\n",
    "    Check that the query is valid\n",
    "    '''\n",
    "\n",
    "    required_keys = ['product_type', 'variable', 'year', 'month', 'day', 'time', 'area', 'data_format', 'download_format']\n",
    "    if not all([key in query_body.keys() for key in required_keys]):\n",
    "        print(f\"Missing required key in query. Required keys are {required_keys}\")\n",
    "        print(\"Query validation failed\")\n",
    "        raise ValueError(\"Invalid query\")\n",
    "        \n",
    "    else:\n",
    "        return query_body"
   ]
  },
  {
   "cell_type": "code",
   "execution_count": null,
   "metadata": {},
   "outputs": [],
   "source": [
    "#| export\n",
    "def fetch_MDG_GADM(\n",
    "        output_file: str=\"gadm41_MDG.gpkg\" # file path to save the GADM data\n",
    "    )-> str:\n",
    "    '''\n",
    "    Fetch the GADM data for Madagascar\n",
    "    https://geodata.ucdavis.edu/gadm/gadm4.1/gpkg/gadm41_MDG.gpkg\n",
    "    '''\n",
    "\n",
    "    output_file_path = _expand_path(output_file)\n",
    "    if os.path.exists(output_file_path):\n",
    "        print(\"GADM data already exists\")\n",
    "        return output_file_path\n",
    "    \n",
    "    print(\"Fetching GADM bounding box data for Madagascar\")\n",
    "    os.system(\"curl --output {} https://geodata.ucdavis.edu/gadm/gadm4.1/gpkg/gadm41_MDG.gpkg\".format(output_file))\n",
    "    print(\"GADM data fetched\")\n",
    "    \n",
    "    return output_file_path"
   ]
  },
  {
   "cell_type": "code",
   "execution_count": null,
   "metadata": {},
   "outputs": [],
   "source": [
    "#| export\n",
    "def download(\n",
    "        cfg: DictConfig,  # hydra configuration file\n",
    "        output_dir: str = \"data/input/\", # output directory\n",
    "        dataset: str = \"reanalysis-era5-pressure-levels\", # dataset to download\n",
    "        testing: bool = True  # testing mode\n",
    "    )->None:\n",
    "    '''\n",
    "    Send the query to the API and download the data\n",
    "    '''\n",
    "    \n",
    "    client = cdsapi.Client()\n",
    "    \n",
    "    query = _validate_query(cfg.query)\n",
    "    \n",
    "    # Send the query to the client\n",
    "    if not testing:\n",
    "        client.retrieve(dataset, query).download(os.path.join(_expand_path(output_dir), \"{}_{}.nc\".format(query.year, query.month)))\n",
    "    else:\n",
    "        print(f\"Testing mode. Not downloading data. Query is {query}\")\n",
    "\n",
    "    print(\"Done\")"
   ]
  },
  {
   "cell_type": "code",
   "execution_count": null,
   "metadata": {},
   "outputs": [],
   "source": [
    "#| export\n",
    "@hydra.main(config_path=\"../conf\", config_name=\"config\", version_base=None)\n",
    "def main(cfg: DictConfig) -> None:\n",
    "    download(cfg=cfg)"
   ]
  },
  {
   "cell_type": "code",
   "execution_count": null,
   "metadata": {},
   "outputs": [],
   "source": [
    "#| export\n",
    "try: from nbdev.imports import IN_NOTEBOOK\n",
    "except: IN_NOTEBOOK=False\n",
    "\n",
    "if __name__ == \"__main__\" and not IN_NOTEBOOK:\n",
    "    print('Running from __main__ ...')\n",
    "\n",
    "    main()"
   ]
  },
  {
   "cell_type": "code",
   "execution_count": null,
   "metadata": {},
   "outputs": [],
   "source": [
    "#| hide\n",
    "import nbdev; nbdev.nbdev_export()"
   ]
  }
 ],
 "metadata": {
  "kernelspec": {
   "display_name": "python3",
   "language": "python",
   "name": "python3"
  }
 },
 "nbformat": 4,
 "nbformat_minor": 2
}
